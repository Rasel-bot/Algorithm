{
 "cells": [
  {
   "cell_type": "code",
   "execution_count": 46,
   "id": "907ddfd5",
   "metadata": {},
   "outputs": [],
   "source": [
    "class TreeNode:\n",
    "    def __init__(self, data):\n",
    "        self.data = data\n",
    "        self.left = None\n",
    "        self.right = None\n",
    "        self.parent = None\n",
    "    \n",
    "    def __repr__(self):\n",
    "        return repr(self.data)\n",
    "    \n",
    "    def add_left(self, node):\n",
    "        self.left = node\n",
    "        if node is not None:\n",
    "            node.parent = self\n",
    "    \n",
    "    def add_right(self, node):\n",
    "        self.right = node\n",
    "        if node is not None:\n",
    "            node.parent = self\n",
    "            "
   ]
  },
  {
   "cell_type": "code",
   "execution_count": 47,
   "id": "7c843d71",
   "metadata": {},
   "outputs": [],
   "source": [
    "def bst_insert(root, node):\n",
    "    parent_node = None\n",
    "    current_node = root\n",
    "    while current_node is not None:\n",
    "        parent_node = current_node\n",
    "        if node.data < current_node.data:\n",
    "            current_node = current_node.left\n",
    "        else:\n",
    "            current_node = current_node.right\n",
    "    if parent_node is None:\n",
    "        root = node\n",
    "    elif node.data < parent_node.data:\n",
    "        parent_node.add_left(node)\n",
    "    else:\n",
    "        parent_node.add_right(node)\n",
    "    return root"
   ]
  },
  {
   "cell_type": "code",
   "execution_count": 48,
   "id": "b2824830",
   "metadata": {},
   "outputs": [],
   "source": [
    "def create_bst():\n",
    "    root = TreeNode(10)\n",
    "    for item in [5,6,7,9,11,14,2,8]:\n",
    "        node = TreeNode(item)\n",
    "        root = bst_insert(root,node)\n",
    "    return root\n",
    "    "
   ]
  },
  {
   "cell_type": "code",
   "execution_count": 49,
   "id": "03afb264",
   "metadata": {},
   "outputs": [],
   "source": [
    "def inorder(node):\n",
    "    if node.left:\n",
    "        inorder(node.left)\n",
    "    print(node)\n",
    "    if node.right:\n",
    "        inorder(node.right)\n",
    "    "
   ]
  },
  {
   "cell_type": "code",
   "execution_count": 50,
   "id": "45505712",
   "metadata": {},
   "outputs": [
    {
     "name": "stdout",
     "output_type": "stream",
     "text": [
      "10\n",
      "2\n",
      "5\n",
      "6\n",
      "7\n",
      "8\n",
      "9\n",
      "10\n",
      "11\n",
      "14\n"
     ]
    }
   ],
   "source": [
    "if __name__ == \"__main__\":\n",
    "    root = create_bst()\n",
    "    print(root)\n",
    "    inorder(root)\n"
   ]
  },
  {
   "cell_type": "code",
   "execution_count": 51,
   "id": "f43695d8",
   "metadata": {},
   "outputs": [],
   "source": [
    "def bst_search(node, key):\n",
    "    while node is not None:\n",
    "        if key == node.data:\n",
    "            return node\n",
    "        elif key < node.data:\n",
    "            node = node.left\n",
    "        else:\n",
    "            node = node.right\n",
    "    return node"
   ]
  },
  {
   "cell_type": "code",
   "execution_count": 52,
   "id": "a9602dc1",
   "metadata": {},
   "outputs": [
    {
     "name": "stdout",
     "output_type": "stream",
     "text": [
      "searching 11\n",
      "11\n",
      "searching 42\n",
      "None\n"
     ]
    }
   ],
   "source": [
    "if __name__ == \"__main__\":\n",
    "    node = create_bst()\n",
    "    for key in [11, 42]:\n",
    "        print(\"searching\", key)\n",
    "        result = bst_search(node, key)\n",
    "        print(result)"
   ]
  },
  {
   "cell_type": "code",
   "execution_count": 53,
   "id": "226e55b5",
   "metadata": {},
   "outputs": [],
   "source": [
    "def bst_minimum(node):\n",
    "    while node.left is not None:\n",
    "        node = node.left\n",
    "    return node"
   ]
  },
  {
   "cell_type": "code",
   "execution_count": 54,
   "id": "f580b867",
   "metadata": {},
   "outputs": [],
   "source": [
    "def bst_transplant(root, removing_node, adding_node):\n",
    "    if removing_node.parent is None:\n",
    "        root = adding_node\n",
    "    elif removing_node == removing_node.parent.left:\n",
    "        removing_node.parent.add_left(adding_node)\n",
    "    else:\n",
    "        removing_node.parent.add_right(adding_node)\n",
    "    return root"
   ]
  },
  {
   "cell_type": "code",
   "execution_count": 55,
   "id": "91ebb45c",
   "metadata": {},
   "outputs": [],
   "source": [
    "def bst_delete(root, node):\n",
    "    if node.left is None:\n",
    "        root = bst_transplant(root, node, node.right)\n",
    "    elif node.right is None:\n",
    "        root = bst_transplant(root, node, node.left)\n",
    "    else:\n",
    "        min_node = bst_minimum(node.right)\n",
    "        if min_node.parent != node:\n",
    "            root = bst_transplant(root, min_node, min_node.right)\n",
    "            min_node.add_right(node.right)\n",
    "        root - bst_transplant(root, node, min_node)\n",
    "        min_node.add_left(node.left)\n",
    "    return root\n",
    "        "
   ]
  },
  {
   "cell_type": "code",
   "execution_count": 56,
   "id": "60f647d1",
   "metadata": {},
   "outputs": [
    {
     "name": "stdout",
     "output_type": "stream",
     "text": [
      "BST:\n",
      "2\n",
      "5\n",
      "6\n",
      "7\n",
      "8\n",
      "9\n",
      "10\n",
      "11\n",
      "14\n",
      "will delete node 2\n",
      "BST:\n",
      "5\n",
      "6\n",
      "7\n",
      "8\n",
      "9\n",
      "10\n",
      "11\n",
      "14\n",
      "will delete node 7\n",
      "BST:\n",
      "5\n",
      "6\n",
      "8\n",
      "9\n",
      "10\n",
      "11\n",
      "14\n",
      "will delete node 14\n",
      "BST:\n",
      "5\n",
      "6\n",
      "8\n",
      "9\n",
      "10\n",
      "11\n"
     ]
    }
   ],
   "source": [
    "if __name__ == \"__main__\":\n",
    "    root = create_bst()\n",
    "    print(\"BST:\")\n",
    "    inorder(root)\n",
    "    for key in [2,7,14]:\n",
    "        node = bst_search(root, key)\n",
    "        print(\"will delete node\", node)\n",
    "        root = bst_delete(root, node)\n",
    "        print(\"BST:\")\n",
    "        inorder(root)"
   ]
  },
  {
   "cell_type": "code",
   "execution_count": null,
   "id": "175cbc97",
   "metadata": {},
   "outputs": [],
   "source": []
  }
 ],
 "metadata": {
  "kernelspec": {
   "display_name": "Python 3 (ipykernel)",
   "language": "python",
   "name": "python3"
  },
  "language_info": {
   "codemirror_mode": {
    "name": "ipython",
    "version": 3
   },
   "file_extension": ".py",
   "mimetype": "text/x-python",
   "name": "python",
   "nbconvert_exporter": "python",
   "pygments_lexer": "ipython3",
   "version": "3.9.7"
  }
 },
 "nbformat": 4,
 "nbformat_minor": 5
}
