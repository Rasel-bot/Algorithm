{
 "cells": [
  {
   "cell_type": "code",
   "execution_count": 7,
   "id": "1626d253",
   "metadata": {},
   "outputs": [],
   "source": [
    "class Node:\n",
    "    def __init__(self,data):\n",
    "        self.data = data \n",
    "        self.prev = None\n",
    "        self.next = None\n",
    "        "
   ]
  },
  {
   "cell_type": "code",
   "execution_count": 8,
   "id": "7cc8ade7",
   "metadata": {},
   "outputs": [],
   "source": [
    "class DoublyLL:\n",
    "    def __init__(self):\n",
    "        self.head = None\n",
    "    \n",
    "    def print_LL(self):\n",
    "        if self.head is None:\n",
    "            print(\"List is empty\")\n",
    "        else:\n",
    "            n = self.head\n",
    "            while n is not None:\n",
    "                print(n.data,\"--->\",end = \" \")\n",
    "                n = n.next\n",
    "    \n",
    "    def print_LL_reverse(self):\n",
    "        print()\n",
    "        print()\n",
    "        if self.head is None:\n",
    "            print(\"List is empty\")\n",
    "        else:\n",
    "            n = self.head\n",
    "            while n.next is not None:\n",
    "                n = n.next\n",
    "            while n is not None:\n",
    "                print(n.data, \"<---\", end = \" \")\n",
    "                n = n.prev\n",
    "            \n",
    "    def add_begin(self,data):\n",
    "        new_node = Node(data)\n",
    "        if self.head is None:\n",
    "            self.head = new_node\n",
    "        else:\n",
    "            new_node.next = self.head\n",
    "            self.head.prev = new_node\n",
    "            self.head = new_node\n",
    "    \n",
    "    def add_end(self,data):\n",
    "        new_node = Node(data)\n",
    "        if self.head is None:\n",
    "            self.head = new_node\n",
    "        else:\n",
    "            n = self.head\n",
    "            while n.next is not None:\n",
    "                n = n.next\n",
    "            n.next = new_node\n",
    "            new_node.prev = n\n",
    "            \n",
    "    def add_after(self,data,x):\n",
    "        new_node = Node(data)\n",
    "        if self.head is None:\n",
    "            print(\"List is empty\")\n",
    "        else:\n",
    "            n = self.head\n",
    "            while n is not None:\n",
    "                if x == n.data:\n",
    "                    break\n",
    "                n = n.next\n",
    "            if n is None:\n",
    "                print(\"x is not here\")\n",
    "            else:\n",
    "                new_node = Node(data)\n",
    "                new_node.next = n.next\n",
    "                new_node.prev = n\n",
    "                if n.next is not None:\n",
    "                    n.next.prev = new_node\n",
    "                n.next = new_node\n",
    "                \n",
    "    def add_before(self,data,x):\n",
    "        new_node = Node(data)\n",
    "        if self.head is None:\n",
    "            print(\"List is empty\")\n",
    "        else:\n",
    "            n = self.head\n",
    "            while n is not None:\n",
    "                if x == n.data:\n",
    "                    break\n",
    "                n = n.next\n",
    "            if n is None:\n",
    "                print(\"x is not here\")\n",
    "            else:\n",
    "                new_node = Node(data)\n",
    "                new_node.next = n\n",
    "                new_node.prev = n.prev\n",
    "                if n.prev is not None:\n",
    "                    n.prev.next = new_node\n",
    "                else:\n",
    "                    self.head = new_node\n",
    "                n.prev = new_node \n",
    "            \n",
    "    def delete_begin(self):\n",
    "        if self.head is None:\n",
    "            (\"Empty list can't delete\")\n",
    "            return\n",
    "        if self.head.next is None:\n",
    "            self.head = None\n",
    "            print(\"Empty after delete\")\n",
    "            return\n",
    "        else:\n",
    "            self.head = self.head.next\n",
    "            self.head.prev = None\n",
    "            return\n",
    "    \n",
    "    def delete_end(self):\n",
    "        if self.head is None:\n",
    "            (\"Empty list can't delete\")\n",
    "            return\n",
    "        if self.head.next is None:\n",
    "            self.head = None\n",
    "            print(\"Empty after deleting\")\n",
    "        else:\n",
    "            n = self.head\n",
    "            while n.next is not None:\n",
    "                n = n.next\n",
    "            n.prev.next = None\n",
    "            return\n",
    "            \n",
    "    def delete_by_value(self,x):\n",
    "        if self.head is None:\n",
    "            print(\"Empty list can't delete\")\n",
    "        if self.head.next is None:\n",
    "            if x == self.head.data:\n",
    "                self.head == None\n",
    "                print(\"After deleting list is empty\")\n",
    "                return\n",
    "        if x == self.head.data:\n",
    "            self.head = self.head.next\n",
    "            self.head.prev = None\n",
    "            return\n",
    "        n = self.head\n",
    "        while n.next is not None:\n",
    "            if x == n.data:\n",
    "                break\n",
    "            n = n.next\n",
    "        if n.next is not None:\n",
    "            n.next.prev = n.prev\n",
    "            n.prev.next = n.next\n",
    "        else:\n",
    "            if x == n.data:\n",
    "                n.prev.next = None\n",
    "            else:\n",
    "                print(\"x is not present\")\n",
    "                return\n",
    "                            \n",
    "            \n",
    "        \n",
    "    \n",
    "                "
   ]
  },
  {
   "cell_type": "code",
   "execution_count": 9,
   "id": "a2654a03",
   "metadata": {},
   "outputs": [
    {
     "name": "stdout",
     "output_type": "stream",
     "text": [
      "24 ---> 40 ---> "
     ]
    }
   ],
   "source": [
    "DBLT = DoublyLL()\n",
    "DBLT.add_begin(24)\n",
    "DBLT.add_end(40)\n",
    "DBLT.print_LL()\n",
    "#DBLT.print_LL_reverse()"
   ]
  },
  {
   "cell_type": "code",
   "execution_count": 10,
   "id": "6856f7b2",
   "metadata": {},
   "outputs": [],
   "source": [
    "DBLT.add_begin(50)\n",
    "DBLT.add_end(70)"
   ]
  },
  {
   "cell_type": "code",
   "execution_count": 14,
   "id": "93316423",
   "metadata": {},
   "outputs": [
    {
     "name": "stdout",
     "output_type": "stream",
     "text": [
      "x is not here\n",
      "24 ---> 40 ---> 66 ---> 66 ---> 70 ---> \n",
      "\n",
      "70 <--- 66 <--- 66 <--- 40 <--- 24 <--- "
     ]
    }
   ],
   "source": [
    "DBLT.add_after(90,50)\n",
    "DBLT.add_before(66,70)\n",
    "DBLT.print_LL()\n",
    "DBLT.print_LL_reverse()\n"
   ]
  },
  {
   "cell_type": "code",
   "execution_count": 38,
   "id": "93f1ff49",
   "metadata": {},
   "outputs": [
    {
     "name": "stdout",
     "output_type": "stream",
     "text": [
      "50 ---> 90 ---> 24 ---> 40 ---> 66 ---> \n",
      "\n",
      "66 <--- 40 <--- 24 <--- 90 <--- 50 <--- "
     ]
    }
   ],
   "source": [
    "#DBLT.delete_begin()\n",
    "DBLT.delete_end()\n",
    "DBLT.print_LL()\n",
    "DBLT.print_LL_reverse()"
   ]
  },
  {
   "cell_type": "code",
   "execution_count": 13,
   "id": "222f5fc6",
   "metadata": {},
   "outputs": [
    {
     "name": "stdout",
     "output_type": "stream",
     "text": [
      "24 ---> 40 ---> 66 ---> 70 ---> \n",
      "\n",
      "70 <--- 66 <--- 40 <--- 24 <--- "
     ]
    }
   ],
   "source": [
    "DBLT.delete_by_value(70)\n",
    "DBLT.print_LL()\n",
    "DBLT.print_LL_reverse()"
   ]
  },
  {
   "cell_type": "code",
   "execution_count": null,
   "id": "9bd62e84",
   "metadata": {},
   "outputs": [],
   "source": []
  }
 ],
 "metadata": {
  "kernelspec": {
   "display_name": "Python 3 (ipykernel)",
   "language": "python",
   "name": "python3"
  },
  "language_info": {
   "codemirror_mode": {
    "name": "ipython",
    "version": 3
   },
   "file_extension": ".py",
   "mimetype": "text/x-python",
   "name": "python",
   "nbconvert_exporter": "python",
   "pygments_lexer": "ipython3",
   "version": "3.9.7"
  }
 },
 "nbformat": 4,
 "nbformat_minor": 5
}
