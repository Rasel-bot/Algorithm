{
 "cells": [
  {
   "cell_type": "code",
   "execution_count": 40,
   "id": "c34add6f",
   "metadata": {},
   "outputs": [],
   "source": [
    "class Node:\n",
    "    def __init__(self,data):\n",
    "        self.data = data\n",
    "        self.left = None \n",
    "        self.right = None\n",
    "       \n",
    "    def __repr__(self):\n",
    "        return repr(self.data)\n",
    "        \n",
    "    def add_left(self,node):\n",
    "        self.left = node\n",
    "     \n",
    "    def add_right(self,node):\n",
    "        self.right = node\n",
    "\n",
    "     \n",
    "    \n",
    "    \n"
   ]
  },
  {
   "cell_type": "markdown",
   "id": "23cd333c",
   "metadata": {},
   "source": [
    "# This class is access for parent node\n"
   ]
  },
  {
   "cell_type": "code",
   "execution_count": 1,
   "id": "2a54193c",
   "metadata": {},
   "outputs": [],
   "source": [
    "class Node:\n",
    "    def __init__(self,data):\n",
    "        self.data = data\n",
    "        self.left = None \n",
    "        self.right = None\n",
    "        self.parent = None\n",
    "       \n",
    "    def __repr__(self):\n",
    "        return repr(self.data)\n",
    "        \n",
    "    def add_left(self,node):\n",
    "        self.left = node\n",
    "        if node is not None:\n",
    "            node.parent = self\n",
    "     \n",
    "    def add_right(self,node):\n",
    "        self.right = node\n",
    "        if node is not None:\n",
    "            node.parent = self\n"
   ]
  },
  {
   "cell_type": "code",
   "execution_count": 2,
   "id": "b365ee7e",
   "metadata": {},
   "outputs": [],
   "source": [
    "def create_tree():\n",
    "    two = Node(2)\n",
    "    seven = Node(7)\n",
    "    nine = Node(9)\n",
    "    two.add_left(seven)\n",
    "    two.add_right(nine)\n",
    "    one = Node(1)\n",
    "    six = Node(6)\n",
    "    seven.add_left(one)\n",
    "    seven.add_right(six)\n",
    "    five = Node(5)\n",
    "    ten = Node(10)\n",
    "    six.add_left(five)\n",
    "    six.add_right(ten)\n",
    "    eight = Node(8)\n",
    "    nine.add_right(eight)\n",
    "    three = Node(3)\n",
    "    four = Node(4)\n",
    "    eight.add_left(three)\n",
    "    eight.add_right(four)\n",
    "    \n",
    "    return two\n",
    "        "
   ]
  },
  {
   "cell_type": "code",
   "execution_count": 3,
   "id": "325ac2fd",
   "metadata": {},
   "outputs": [],
   "source": [
    "def pre_order(node):\n",
    "    print(node)\n",
    "    if node.left:\n",
    "        pre_order(node.left)\n",
    "    if node.right:\n",
    "        pre_order(node.right)"
   ]
  },
  {
   "cell_type": "code",
   "execution_count": 4,
   "id": "0ee76440",
   "metadata": {},
   "outputs": [],
   "source": [
    "def post_order(node):\n",
    "    if node.left:\n",
    "        post_order(node.left)\n",
    "    if node.right:\n",
    "        post_order(node.right)\n",
    "    print(node)"
   ]
  },
  {
   "cell_type": "code",
   "execution_count": 5,
   "id": "92b54511",
   "metadata": {},
   "outputs": [],
   "source": [
    "def in_order(node):\n",
    "    if node.left:\n",
    "        in_order(node.left)\n",
    "    print(node)\n",
    "    if node.right:\n",
    "        in_order(node.right)"
   ]
  },
  {
   "cell_type": "code",
   "execution_count": 6,
   "id": "05b7085c",
   "metadata": {},
   "outputs": [
    {
     "name": "stdout",
     "output_type": "stream",
     "text": [
      "2\n"
     ]
    }
   ],
   "source": [
    "root = create_tree()\n",
    "print(root)\n",
    "    \n",
    "    \n"
   ]
  },
  {
   "cell_type": "code",
   "execution_count": 7,
   "id": "5e513b94",
   "metadata": {},
   "outputs": [
    {
     "name": "stdout",
     "output_type": "stream",
     "text": [
      "2\n",
      "7\n",
      "1\n",
      "6\n",
      "5\n",
      "10\n",
      "9\n",
      "8\n",
      "3\n",
      "4\n"
     ]
    }
   ],
   "source": [
    "pre_order(root)"
   ]
  },
  {
   "cell_type": "code",
   "execution_count": 8,
   "id": "cd2f03e5",
   "metadata": {},
   "outputs": [
    {
     "name": "stdout",
     "output_type": "stream",
     "text": [
      "1\n",
      "5\n",
      "10\n",
      "6\n",
      "7\n",
      "3\n",
      "4\n",
      "8\n",
      "9\n",
      "2\n"
     ]
    }
   ],
   "source": [
    "post_order(root)"
   ]
  },
  {
   "cell_type": "code",
   "execution_count": 9,
   "id": "3ee57fd4",
   "metadata": {},
   "outputs": [
    {
     "name": "stdout",
     "output_type": "stream",
     "text": [
      "1\n",
      "7\n",
      "5\n",
      "6\n",
      "10\n",
      "2\n",
      "9\n",
      "3\n",
      "8\n",
      "4\n"
     ]
    }
   ],
   "source": [
    "in_order(root)"
   ]
  },
  {
   "cell_type": "code",
   "execution_count": null,
   "id": "ab9b8ca1",
   "metadata": {},
   "outputs": [],
   "source": []
  }
 ],
 "metadata": {
  "kernelspec": {
   "display_name": "Python 3 (ipykernel)",
   "language": "python",
   "name": "python3"
  },
  "language_info": {
   "codemirror_mode": {
    "name": "ipython",
    "version": 3
   },
   "file_extension": ".py",
   "mimetype": "text/x-python",
   "name": "python",
   "nbconvert_exporter": "python",
   "pygments_lexer": "ipython3",
   "version": "3.9.7"
  }
 },
 "nbformat": 4,
 "nbformat_minor": 5
}
