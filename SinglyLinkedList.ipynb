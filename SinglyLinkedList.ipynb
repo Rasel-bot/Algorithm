{
 "cells": [
  {
   "cell_type": "code",
   "execution_count": 1,
   "id": "eda3e6f6",
   "metadata": {},
   "outputs": [],
   "source": [
    "class Node:\n",
    "    def __init__(self, data):\n",
    "        self.data = data\n",
    "        self.ref = None\n",
    "        "
   ]
  },
  {
   "cell_type": "code",
   "execution_count": 2,
   "id": "8f79d536",
   "metadata": {},
   "outputs": [],
   "source": [
    "class Linked_list:\n",
    "    def __init__(self):\n",
    "        self.head = None\n",
    "    def print_list(self):\n",
    "        if self.head is None:\n",
    "            print(\"Empty list\")\n",
    "        else:\n",
    "            n = self.head\n",
    "            while n is not None:\n",
    "                print(n.data, \"--->\", end = \" \")\n",
    "                n = n.ref\n",
    "    \n",
    "    def add_begin(self, data):\n",
    "        new_node = Node(data)\n",
    "        new_node.ref = self.head\n",
    "        self.head = new_node\n",
    "        \n",
    "    def add_end(self,data):\n",
    "        new_node = Node(data)\n",
    "        if self.head is None:\n",
    "            self.head = new_node\n",
    "        else:\n",
    "            n = self.head\n",
    "            while n.ref is not None:\n",
    "                n = n.ref\n",
    "            n.ref = new_node\n",
    "       \n",
    "    def add_after(self,data,x):\n",
    "        n = self.head\n",
    "        while n is not None:\n",
    "            if x == n.data:\n",
    "                break\n",
    "            n = n.ref\n",
    "        if n is None:\n",
    "            print(\"No data found\")\n",
    "        else:\n",
    "            new_node = Node(data)\n",
    "            new_node.ref = n.ref\n",
    "            n.ref = new_node\n",
    "        \n",
    "    def add_before(self,data,x):\n",
    "        n = self.head\n",
    "        while n.ref is not None:\n",
    "            if n.ref.data == x:\n",
    "                break\n",
    "            n = n.ref\n",
    "        if n.ref is None:\n",
    "            print(\"No data before\")\n",
    "        else:\n",
    "            new_node = Node(data)\n",
    "            new_node.ref = n.ref\n",
    "            n.ref = new_node\n",
    "    \n",
    "    def remove_begin(self):\n",
    "        if self.head is None:\n",
    "            print(\"Nothing to delete\")\n",
    "        else:\n",
    "            self.head = self.head.ref\n",
    "    \n",
    "    def remove_end(self):\n",
    "        if self.head is None:\n",
    "            print(\"Can't delete\")\n",
    "        elif self.head.ref is None:\n",
    "            self.head = None\n",
    "        else:\n",
    "            n = self.head\n",
    "            while n.ref.ref is not None:\n",
    "                n = n.ref\n",
    "            n.ref = None \n",
    "    \n",
    "    def remove_by_value(self,x):\n",
    "        if self.head is None:\n",
    "            print(\"Nothing to do\")\n",
    "        elif x == self.head.data:\n",
    "            self.head = self.head.ref\n",
    "        else:\n",
    "            n = self.head\n",
    "            while n.ref is not None:\n",
    "                if x == n.ref.data:\n",
    "                    break\n",
    "                n = n.ref\n",
    "            if n.ref is None:\n",
    "                print(\"Node is not present\")\n",
    "            else:\n",
    "                n.ref = n.ref.ref\n",
    "                \n",
    "        "
   ]
  },
  {
   "cell_type": "code",
   "execution_count": 3,
   "id": "0d2e3823",
   "metadata": {},
   "outputs": [
    {
     "name": "stdout",
     "output_type": "stream",
     "text": [
      "70 ---> 100 ---> 50 ---> 90 ---> 300 ---> "
     ]
    }
   ],
   "source": [
    "LL1 = Linked_list()\n",
    "LL1.add_begin(100)\n",
    "LL1.add_begin(70)\n",
    "LL1.add_end(300)\n",
    "LL1.add_after(50,100)\n",
    "LL1.add_before(90,300)\n",
    "LL1.print_list()\n"
   ]
  },
  {
   "cell_type": "code",
   "execution_count": 5,
   "id": "35762703",
   "metadata": {},
   "outputs": [
    {
     "name": "stdout",
     "output_type": "stream",
     "text": [
      "100 ---> 50 ---> 90 ---> "
     ]
    }
   ],
   "source": [
    "LL1.remove_begin()\n",
    "LL1.print_list()"
   ]
  },
  {
   "cell_type": "code",
   "execution_count": 6,
   "id": "027504a4",
   "metadata": {},
   "outputs": [
    {
     "name": "stdout",
     "output_type": "stream",
     "text": [
      "60 ---> 100 ---> 50 ---> 90 ---> "
     ]
    }
   ],
   "source": [
    "LL1.add_begin(60)\n",
    "LL1.print_list()"
   ]
  },
  {
   "cell_type": "code",
   "execution_count": 7,
   "id": "3047aa1b",
   "metadata": {},
   "outputs": [
    {
     "name": "stdout",
     "output_type": "stream",
     "text": [
      "60 ---> 100 ---> 50 ---> "
     ]
    }
   ],
   "source": [
    "LL1.remove_end()\n",
    "LL1.print_list()"
   ]
  },
  {
   "cell_type": "code",
   "execution_count": 5,
   "id": "163b01cf",
   "metadata": {},
   "outputs": [
    {
     "name": "stdout",
     "output_type": "stream",
     "text": [
      "Node is not present\n",
      "70 ---> 50 ---> 90 ---> 300 ---> "
     ]
    }
   ],
   "source": [
    "LL1.remove_by_value(100)\n",
    "LL1.print_list()"
   ]
  },
  {
   "cell_type": "code",
   "execution_count": null,
   "id": "f5c57a60",
   "metadata": {},
   "outputs": [],
   "source": []
  }
 ],
 "metadata": {
  "kernelspec": {
   "display_name": "Python 3 (ipykernel)",
   "language": "python",
   "name": "python3"
  },
  "language_info": {
   "codemirror_mode": {
    "name": "ipython",
    "version": 3
   },
   "file_extension": ".py",
   "mimetype": "text/x-python",
   "name": "python",
   "nbconvert_exporter": "python",
   "pygments_lexer": "ipython3",
   "version": "3.9.7"
  }
 },
 "nbformat": 4,
 "nbformat_minor": 5
}
